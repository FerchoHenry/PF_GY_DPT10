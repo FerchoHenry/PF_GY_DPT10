{
 "cells": [
  {
   "cell_type": "code",
   "execution_count": 14,
   "metadata": {},
   "outputs": [],
   "source": [
    "import pandas as pd\n",
    "import numpy as np\n",
    "import matplotlib as plt\n",
    "import pyarrow as pa\n",
    "import matplotlib.pyplot as plt\n",
    "import os\n",
    "import glob"
   ]
  },
  {
   "cell_type": "code",
   "execution_count": 15,
   "metadata": {},
   "outputs": [],
   "source": [
    "#Como se puede observar los estados estan dividido en varios json por lo cual vamos a proceder a unrilos en uno solo\n",
    "\n",
    "\n",
    "# Directorio donde están los archivos JSON\n",
    "directorio = \"\"\n",
    "\n",
    "# Cargar todos los archivos JSON en una lista de DataFrames\n",
    "dataframes = []\n",
    "for filename in sorted(glob.glob(os.path.join(directorio, \"*.json\"))):\n",
    "    df = pd.read_json(filename, lines= True)\n",
    "    dataframes.append(df)\n",
    "\n",
    "# Concatenar todos los DataFrames en uno solo\n",
    "df = pd.concat(dataframes, ignore_index=True)\n"
   ]
  },
  {
   "cell_type": "markdown",
   "metadata": {},
   "source": [
    "**CONSERVAMOS SOLO LOS RESTAURANTES**"
   ]
  },
  {
   "cell_type": "code",
   "execution_count": 16,
   "metadata": {},
   "outputs": [],
   "source": [
    "df['category'] = df['category'].astype(str)"
   ]
  },
  {
   "cell_type": "code",
   "execution_count": 17,
   "metadata": {},
   "outputs": [],
   "source": [
    "df = df[df['category'].str.contains(\"restaurant\", case=False, na=False)]"
   ]
  },
  {
   "cell_type": "code",
   "execution_count": 18,
   "metadata": {},
   "outputs": [],
   "source": [
    "df.reset_index(drop=True, inplace=True)"
   ]
  },
  {
   "cell_type": "markdown",
   "metadata": {},
   "source": [
    "**ELIMINACION DE COLUMNAS QUE NO NOS SIRVEN**"
   ]
  },
  {
   "cell_type": "code",
   "execution_count": 19,
   "metadata": {},
   "outputs": [],
   "source": [
    "df.drop('description', axis = 1, inplace=True)\n",
    "df.drop('state', axis = 1, inplace = True)\n",
    "df.drop('relative_results', axis= 1, inplace = True)\n",
    "df.drop('url', axis = 1, inplace= True)\n",
    "df.drop('address', axis = 1, inplace = True)"
   ]
  },
  {
   "cell_type": "markdown",
   "metadata": {},
   "source": [
    "**NORMALIZAMOS LOS DATOS**"
   ]
  },
  {
   "cell_type": "code",
   "execution_count": 20,
   "metadata": {},
   "outputs": [
    {
     "data": {
      "text/plain": [
       "price\n",
       "$       57995\n",
       "$$      33222\n",
       "₩₩       3579\n",
       "₩        3438\n",
       "$$$      1390\n",
       "$$$$      180\n",
       "₩₩₩       160\n",
       "₩₩₩₩       36\n",
       "Name: count, dtype: int64"
      ]
     },
     "execution_count": 20,
     "metadata": {},
     "output_type": "execute_result"
    }
   ],
   "source": [
    "df['price'].value_counts()"
   ]
  },
  {
   "cell_type": "code",
   "execution_count": 21,
   "metadata": {},
   "outputs": [],
   "source": [
    "df['price'] = df['price'].replace({'₩': '$', '₩₩': '$$', '₩₩₩': '$$$', '₩₩₩₩': '$$$$'})"
   ]
  },
  {
   "cell_type": "markdown",
   "metadata": {},
   "source": [
    "**TRATAMOS NULOS**"
   ]
  },
  {
   "cell_type": "code",
   "execution_count": 45,
   "metadata": {},
   "outputs": [
    {
     "data": {
      "text/plain": [
       "name                   0\n",
       "gmap_id                0\n",
       "latitude               0\n",
       "longitude              0\n",
       "category               0\n",
       "avg_rating             0\n",
       "num_of_reviews         0\n",
       "price             111215\n",
       "hours              21940\n",
       "MISC                1404\n",
       "dtype: int64"
      ]
     },
     "execution_count": 45,
     "metadata": {},
     "output_type": "execute_result"
    }
   ],
   "source": [
    "df.isnull().sum()"
   ]
  },
  {
   "cell_type": "code",
   "execution_count": 23,
   "metadata": {},
   "outputs": [],
   "source": [
    "df['price'] = df['price'].replace({None: np.nan, '': np.nan})\n",
    "df['hours'] = df['hours'].replace({None: np.nan, '': np.nan})\n",
    "df['MISC'] = df['MISC'].replace({None: np.nan, '': np.nan})"
   ]
  },
  {
   "cell_type": "markdown",
   "metadata": {},
   "source": [
    "**TRATAMIENTO DE DUPLICADOS**"
   ]
  },
  {
   "cell_type": "code",
   "execution_count": 44,
   "metadata": {},
   "outputs": [],
   "source": [
    "df = df.drop_duplicates(subset='gmap_id', keep='first')"
   ]
  },
  {
   "cell_type": "code",
   "execution_count": 25,
   "metadata": {},
   "outputs": [],
   "source": [
    "df.to_json(\"metadata_sitios_limpio.json\", orient=\"records\", lines=True)"
   ]
  },
  {
   "cell_type": "code",
   "execution_count": 46,
   "metadata": {},
   "outputs": [],
   "source": [
    "df['gmap_id'].to_json('gmap_id_restaurantes.json')"
   ]
  },
  {
   "cell_type": "code",
   "execution_count": null,
   "metadata": {},
   "outputs": [],
   "source": []
  }
 ],
 "metadata": {
  "kernelspec": {
   "display_name": "Python 3",
   "language": "python",
   "name": "python3"
  },
  "language_info": {
   "codemirror_mode": {
    "name": "ipython",
    "version": 3
   },
   "file_extension": ".py",
   "mimetype": "text/x-python",
   "name": "python",
   "nbconvert_exporter": "python",
   "pygments_lexer": "ipython3",
   "version": "3.12.6"
  }
 },
 "nbformat": 4,
 "nbformat_minor": 2
}
